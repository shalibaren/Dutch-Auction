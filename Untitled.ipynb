{
 "cells": [
  {
   "cell_type": "code",
   "execution_count": 1,
   "id": "5fd5bb07-ecdf-48ca-ae69-072e412999d7",
   "metadata": {},
   "outputs": [],
   "source": [
    "t = range(1001)"
   ]
  },
  {
   "cell_type": "code",
   "execution_count": 4,
   "id": "5352469a-562a-4319-a0cc-0951fb30a8a8",
   "metadata": {},
   "outputs": [
    {
     "data": {
      "text/plain": [
       "1"
      ]
     },
     "execution_count": 4,
     "metadata": {},
     "output_type": "execute_result"
    }
   ],
   "source": [
    "t[1]"
   ]
  },
  {
   "cell_type": "code",
   "execution_count": 28,
   "id": "f343327f-cbbb-4c22-ab41-698d4b64452d",
   "metadata": {},
   "outputs": [],
   "source": [
    "class Solution:\n",
    "    def validTree(self, n, edges):\n",
    "        uf = UnionFind(n)\n",
    "        for i, j in edges:\n",
    "            print((uf.prt))\n",
    "            if uf.union(i, j):\n",
    "                return False\n",
    "        print((uf.prt))\n",
    "        return True\n",
    "\n",
    "class UnionFind:\n",
    "    def __init__(self, n):\n",
    "        self.rnk = [0] * n\n",
    "        self.prt = [i for i in range(n)]\n",
    "    def find(self, x):\n",
    "        if self.prt[x] != x:\n",
    "            self.prt[x] = self.find(self.prt[x])\n",
    "        return self.prt[x]\n",
    "    def union(self, x, y):\n",
    "        root_x, root_y = self.find(x), self.find(y)\n",
    "        if root_x == root_y:\n",
    "            return True\n",
    "        elif self.rnk[root_x] > self.rnk[root_y]:\n",
    "            self.prt[y] = root_x\n",
    "        else:\n",
    "            self.prt[x] = root_y\n",
    "            self.rnk[y] += 1\n",
    "        return False\n"
   ]
  },
  {
   "cell_type": "code",
   "execution_count": 29,
   "id": "8348e370-bf3a-42cd-b0f9-c9c92b7725ed",
   "metadata": {},
   "outputs": [
    {
     "name": "stdout",
     "output_type": "stream",
     "text": [
      "[0, 1, 2, 3]\n",
      "[1, 1, 2, 3]\n",
      "[1, 1, 3, 3]\n",
      "[1, 3, 3, 3]\n"
     ]
    },
    {
     "data": {
      "text/plain": [
       "True"
      ]
     },
     "execution_count": 29,
     "metadata": {},
     "output_type": "execute_result"
    }
   ],
   "source": [
    "s = Solution()\n",
    "n = 4\n",
    "edges = [[0,1],[2,3],[1,2]]\n",
    "s.validTree(n, edges)"
   ]
  },
  {
   "cell_type": "code",
   "execution_count": 34,
   "id": "85b4b5d9-1211-4bf2-9fd6-a8dabd901cc2",
   "metadata": {},
   "outputs": [
    {
     "data": {
      "text/plain": [
       "2"
      ]
     },
     "execution_count": 34,
     "metadata": {},
     "output_type": "execute_result"
    }
   ],
   "source": [
    "from collections import Counter\n",
    "cnt = Counter([1,2,2,2,3,4,4,5])\n",
    "max_val = max()"
   ]
  },
  {
   "cell_type": "code",
   "execution_count": 39,
   "id": "14310619-8b98-46a1-b26c-44104c222434",
   "metadata": {},
   "outputs": [],
   "source": [
    "class Solution:\n",
    "    def findShortestSubArray(self, nums):\n",
    "        from collections import Counter, defaultdict\n",
    "        cnt_dict = Counter(nums)\n",
    "        max_val = max(cnt_dict.values())\n",
    "        if max_val == 1:\n",
    "            return 1\n",
    "        possible_element = [k for k, v in cnt_dict.items() if v == max_val]\n",
    "        temp_dict = defaultdict(list)\n",
    "        for n, i in enumerate(nums):\n",
    "            print(temp_dict)\n",
    "            if i in possible_element:\n",
    "                if len(temp_dict) < 2:\n",
    "                    temp_dict[i].append(n)\n",
    "                else:\n",
    "                    temp_dict[i][1] = n\n",
    "        min_len = len(nums)\n",
    "        for k, v in temp_dict.items():\n",
    "            if v[1] - v[0] + 1 < min_len:\n",
    "                min_len = v[1] - v[0] + 1\n",
    "        return min_len"
   ]
  },
  {
   "cell_type": "code",
   "execution_count": 43,
   "id": "886664b1-6a4d-4749-852b-18b7ae5afc7f",
   "metadata": {},
   "outputs": [
    {
     "data": {
      "text/plain": [
       "''"
      ]
     },
     "execution_count": 43,
     "metadata": {},
     "output_type": "execute_result"
    }
   ],
   "source": [
    "temp = 'abc'\n",
    "temp[9:]"
   ]
  },
  {
   "cell_type": "code",
   "execution_count": 46,
   "id": "e00b8711-d940-46f8-9b87-4b4f2744a843",
   "metadata": {},
   "outputs": [
    {
     "data": {
      "text/plain": [
       "0"
      ]
     },
     "execution_count": 46,
     "metadata": {},
     "output_type": "execute_result"
    }
   ],
   "source": [
    "n = 1\n",
    "n >> 1"
   ]
  },
  {
   "cell_type": "code",
   "execution_count": 50,
   "id": "ec692cd0-b8ec-4eca-96a3-a21ebd879fa6",
   "metadata": {},
   "outputs": [
    {
     "data": {
      "text/plain": [
       "False"
      ]
     },
     "execution_count": 50,
     "metadata": {},
     "output_type": "execute_result"
    }
   ],
   "source": [
    "'0x70997970c51812dc3a010c7d01b50e0d17dc79c8'\n",
    "'0x70997970C51812dc3A010C7d01b50e0d17dc79C8'"
   ]
  },
  {
   "cell_type": "code",
   "execution_count": null,
   "id": "b3daccb5-6493-4e2c-91b6-f2f6a642bd6e",
   "metadata": {},
   "outputs": [],
   "source": []
  }
 ],
 "metadata": {
  "kernelspec": {
   "display_name": "Python 3 (ipykernel)",
   "language": "python",
   "name": "python3"
  },
  "language_info": {
   "codemirror_mode": {
    "name": "ipython",
    "version": 3
   },
   "file_extension": ".py",
   "mimetype": "text/x-python",
   "name": "python",
   "nbconvert_exporter": "python",
   "pygments_lexer": "ipython3",
   "version": "3.8.12"
  }
 },
 "nbformat": 4,
 "nbformat_minor": 5
}
